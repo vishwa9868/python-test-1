{
 "cells": [
  {
   "cell_type": "code",
   "execution_count": 3,
   "id": "f72debd8",
   "metadata": {},
   "outputs": [],
   "source": [
    "a = 10"
   ]
  },
  {
   "cell_type": "code",
   "execution_count": 4,
   "id": "f0e69d11",
   "metadata": {},
   "outputs": [
    {
     "data": {
      "text/plain": [
       "20"
      ]
     },
     "execution_count": 4,
     "metadata": {},
     "output_type": "execute_result"
    }
   ],
   "source": [
    "a+10"
   ]
  },
  {
   "cell_type": "markdown",
   "id": "5450f5f9",
   "metadata": {},
   "source": [
    "type function gives the data type of the variables"
   ]
  },
  {
   "cell_type": "code",
   "execution_count": 5,
   "id": "1a5198cf",
   "metadata": {},
   "outputs": [
    {
     "data": {
      "text/plain": [
       "int"
      ]
     },
     "execution_count": 5,
     "metadata": {},
     "output_type": "execute_result"
    }
   ],
   "source": [
    "type(a)"
   ]
  },
  {
   "cell_type": "code",
   "execution_count": 6,
   "id": "8e6e8ee5",
   "metadata": {},
   "outputs": [],
   "source": [
    "v = \"vishwa\""
   ]
  },
  {
   "cell_type": "code",
   "execution_count": 7,
   "id": "95849c56",
   "metadata": {},
   "outputs": [
    {
     "data": {
      "text/plain": [
       "'vishwa'"
      ]
     },
     "execution_count": 7,
     "metadata": {},
     "output_type": "execute_result"
    }
   ],
   "source": [
    "v"
   ]
  },
  {
   "cell_type": "code",
   "execution_count": 8,
   "id": "6377ce49",
   "metadata": {},
   "outputs": [
    {
     "data": {
      "text/plain": [
       "str"
      ]
     },
     "execution_count": 8,
     "metadata": {},
     "output_type": "execute_result"
    }
   ],
   "source": [
    "type(v)"
   ]
  },
  {
   "cell_type": "code",
   "execution_count": 9,
   "id": "2c3fdded",
   "metadata": {},
   "outputs": [],
   "source": [
    "b = 23.789"
   ]
  },
  {
   "cell_type": "code",
   "execution_count": 10,
   "id": "a86400df",
   "metadata": {},
   "outputs": [
    {
     "data": {
      "text/plain": [
       "23.789"
      ]
     },
     "execution_count": 10,
     "metadata": {},
     "output_type": "execute_result"
    }
   ],
   "source": [
    "b"
   ]
  },
  {
   "cell_type": "code",
   "execution_count": 11,
   "id": "45a610c7",
   "metadata": {},
   "outputs": [
    {
     "data": {
      "text/plain": [
       "float"
      ]
     },
     "execution_count": 11,
     "metadata": {},
     "output_type": "execute_result"
    }
   ],
   "source": [
    "type(b)"
   ]
  },
  {
   "cell_type": "code",
   "execution_count": 12,
   "id": "e6186cd7",
   "metadata": {},
   "outputs": [
    {
     "data": {
      "text/plain": [
       "33.789"
      ]
     },
     "execution_count": 12,
     "metadata": {},
     "output_type": "execute_result"
    }
   ],
   "source": [
    "a+b"
   ]
  },
  {
   "cell_type": "code",
   "execution_count": 15,
   "id": "968641e6",
   "metadata": {},
   "outputs": [
    {
     "data": {
      "text/plain": [
       "'23.789'"
      ]
     },
     "execution_count": 15,
     "metadata": {},
     "output_type": "execute_result"
    }
   ],
   "source": [
    "str(b)"
   ]
  },
  {
   "cell_type": "code",
   "execution_count": 17,
   "id": "578347f7",
   "metadata": {},
   "outputs": [
    {
     "data": {
      "text/plain": [
       "'vishwa23.789'"
      ]
     },
     "execution_count": 17,
     "metadata": {},
     "output_type": "execute_result"
    }
   ],
   "source": [
    "v+ str(b)"
   ]
  },
  {
   "cell_type": "code",
   "execution_count": 21,
   "id": "068204a7",
   "metadata": {},
   "outputs": [],
   "source": [
    "V = \"vish\""
   ]
  },
  {
   "cell_type": "code",
   "execution_count": 22,
   "id": "ab1aff4f",
   "metadata": {},
   "outputs": [
    {
     "data": {
      "text/plain": [
       "'vishwa'"
      ]
     },
     "execution_count": 22,
     "metadata": {},
     "output_type": "execute_result"
    }
   ],
   "source": [
    "v"
   ]
  },
  {
   "cell_type": "code",
   "execution_count": 23,
   "id": "21451395",
   "metadata": {},
   "outputs": [
    {
     "data": {
      "text/plain": [
       "'vish'"
      ]
     },
     "execution_count": 23,
     "metadata": {},
     "output_type": "execute_result"
    }
   ],
   "source": [
    "V"
   ]
  },
  {
   "cell_type": "code",
   "execution_count": 24,
   "id": "037c333d",
   "metadata": {},
   "outputs": [],
   "source": [
    "m = True"
   ]
  },
  {
   "cell_type": "code",
   "execution_count": 25,
   "id": "b74b193a",
   "metadata": {},
   "outputs": [
    {
     "data": {
      "text/plain": [
       "True"
      ]
     },
     "execution_count": 25,
     "metadata": {},
     "output_type": "execute_result"
    }
   ],
   "source": [
    "m"
   ]
  },
  {
   "cell_type": "code",
   "execution_count": 44,
   "id": "f441003a",
   "metadata": {},
   "outputs": [
    {
     "data": {
      "text/plain": [
       "bool"
      ]
     },
     "execution_count": 44,
     "metadata": {},
     "output_type": "execute_result"
    }
   ],
   "source": [
    "type(m)"
   ]
  },
  {
   "cell_type": "code",
   "execution_count": 26,
   "id": "12da50d7",
   "metadata": {},
   "outputs": [],
   "source": [
    "n = False"
   ]
  },
  {
   "cell_type": "code",
   "execution_count": 13,
   "id": "c2c1fe72",
   "metadata": {},
   "outputs": [
    {
     "ename": "TypeError",
     "evalue": "unsupported operand type(s) for +: 'int' and 'str'",
     "output_type": "error",
     "traceback": [
      "\u001b[1;31m---------------------------------------------------------------------------\u001b[0m",
      "\u001b[1;31mTypeError\u001b[0m                                 Traceback (most recent call last)",
      "Input \u001b[1;32mIn [13]\u001b[0m, in \u001b[0;36m<cell line: 1>\u001b[1;34m()\u001b[0m\n\u001b[1;32m----> 1\u001b[0m \u001b[43ma\u001b[49m\u001b[38;5;241;43m+\u001b[39;49m\u001b[43mv\u001b[49m\n",
      "\u001b[1;31mTypeError\u001b[0m: unsupported operand type(s) for +: 'int' and 'str'"
     ]
    }
   ],
   "source": [
    "a+v"
   ]
  },
  {
   "cell_type": "code",
   "execution_count": 27,
   "id": "1367d434",
   "metadata": {},
   "outputs": [
    {
     "data": {
      "text/plain": [
       "False"
      ]
     },
     "execution_count": 27,
     "metadata": {},
     "output_type": "execute_result"
    }
   ],
   "source": [
    "n"
   ]
  },
  {
   "cell_type": "code",
   "execution_count": 29,
   "id": "763925e4",
   "metadata": {},
   "outputs": [],
   "source": [
    "p = 8+3j"
   ]
  },
  {
   "cell_type": "code",
   "execution_count": 30,
   "id": "b6106945",
   "metadata": {},
   "outputs": [
    {
     "name": "stdout",
     "output_type": "stream",
     "text": [
      "(8+3j)\n"
     ]
    }
   ],
   "source": [
    "print(p)"
   ]
  },
  {
   "cell_type": "code",
   "execution_count": 31,
   "id": "7289c7c6",
   "metadata": {},
   "outputs": [
    {
     "data": {
      "text/plain": [
       "complex"
      ]
     },
     "execution_count": 31,
     "metadata": {},
     "output_type": "execute_result"
    }
   ],
   "source": [
    "type(p)"
   ]
  },
  {
   "cell_type": "code",
   "execution_count": 32,
   "id": "59c49a98",
   "metadata": {},
   "outputs": [
    {
     "data": {
      "text/plain": [
       "8.0"
      ]
     },
     "execution_count": 32,
     "metadata": {},
     "output_type": "execute_result"
    }
   ],
   "source": [
    "p.real"
   ]
  },
  {
   "cell_type": "code",
   "execution_count": 34,
   "id": "87d26b26",
   "metadata": {},
   "outputs": [
    {
     "data": {
      "text/plain": [
       "3.0"
      ]
     },
     "execution_count": 34,
     "metadata": {},
     "output_type": "execute_result"
    }
   ],
   "source": [
    "p.imag"
   ]
  },
  {
   "cell_type": "code",
   "execution_count": 45,
   "id": "fdf3e4bf",
   "metadata": {},
   "outputs": [],
   "source": [
    "vish = [12354]"
   ]
  },
  {
   "cell_type": "code",
   "execution_count": 46,
   "id": "e26700ec",
   "metadata": {},
   "outputs": [
    {
     "data": {
      "text/plain": [
       "[12354]"
      ]
     },
     "execution_count": 46,
     "metadata": {},
     "output_type": "execute_result"
    }
   ],
   "source": [
    "vish"
   ]
  },
  {
   "cell_type": "code",
   "execution_count": 47,
   "id": "92e38d34",
   "metadata": {},
   "outputs": [
    {
     "data": {
      "text/plain": [
       "list"
      ]
     },
     "execution_count": 47,
     "metadata": {},
     "output_type": "execute_result"
    }
   ],
   "source": [
    "type(vish)"
   ]
  },
  {
   "cell_type": "code",
   "execution_count": 98,
   "id": "b5ea0bc4",
   "metadata": {},
   "outputs": [],
   "source": [
    "l1= ['hffh',456594,False,456.32,(\"ywgdyew\",4589,23.36),{'hgg',5698.32,5626,True}]"
   ]
  },
  {
   "cell_type": "code",
   "execution_count": 99,
   "id": "2e656ed5",
   "metadata": {},
   "outputs": [
    {
     "data": {
      "text/plain": [
       "['hffh',\n",
       " 456594,\n",
       " False,\n",
       " 456.32,\n",
       " ('ywgdyew', 4589, 23.36),\n",
       " {5626, 5698.32, True, 'hgg'}]"
      ]
     },
     "execution_count": 99,
     "metadata": {},
     "output_type": "execute_result"
    }
   ],
   "source": [
    "l1"
   ]
  },
  {
   "cell_type": "code",
   "execution_count": 100,
   "id": "0569c3e9",
   "metadata": {},
   "outputs": [
    {
     "data": {
      "text/plain": [
       "list"
      ]
     },
     "execution_count": 100,
     "metadata": {},
     "output_type": "execute_result"
    }
   ],
   "source": [
    "type(l1)"
   ]
  },
  {
   "cell_type": "code",
   "execution_count": 101,
   "id": "8e7befda",
   "metadata": {},
   "outputs": [],
   "source": [
    "patil = (\"abdd\", [\"ghurrt\",\"vhbvjh\"],{\"hgh\",True,2365.32,4568})"
   ]
  },
  {
   "cell_type": "code",
   "execution_count": 102,
   "id": "17aafb2a",
   "metadata": {},
   "outputs": [
    {
     "data": {
      "text/plain": [
       "('abdd', ['ghurrt', 'vhbvjh'], {2365.32, 4568, True, 'hgh'})"
      ]
     },
     "execution_count": 102,
     "metadata": {},
     "output_type": "execute_result"
    }
   ],
   "source": [
    "patil"
   ]
  },
  {
   "cell_type": "code",
   "execution_count": 56,
   "id": "5d513011",
   "metadata": {},
   "outputs": [
    {
     "data": {
      "text/plain": [
       "tuple"
      ]
     },
     "execution_count": 56,
     "metadata": {},
     "output_type": "execute_result"
    }
   ],
   "source": [
    "type(patil)"
   ]
  },
  {
   "cell_type": "code",
   "execution_count": 88,
   "id": "6355043f",
   "metadata": {},
   "outputs": [],
   "source": [
    "vishwa1 = (1234,456.36,\"shjnj\",{'bdhf',True,659.32},['hfggf',4568,563.26])"
   ]
  },
  {
   "cell_type": "code",
   "execution_count": 89,
   "id": "020aa482",
   "metadata": {},
   "outputs": [
    {
     "data": {
      "text/plain": [
       "(1234, 456.36, 'shjnj', {659.32, True, 'bdhf'}, ['hfggf', 4568, 563.26])"
      ]
     },
     "execution_count": 89,
     "metadata": {},
     "output_type": "execute_result"
    }
   ],
   "source": [
    "vishwa1"
   ]
  },
  {
   "cell_type": "code",
   "execution_count": 62,
   "id": "63a6fbff",
   "metadata": {},
   "outputs": [
    {
     "data": {
      "text/plain": [
       "tuple"
      ]
     },
     "execution_count": 62,
     "metadata": {},
     "output_type": "execute_result"
    }
   ],
   "source": [
    "type(vishwa1)"
   ]
  },
  {
   "cell_type": "code",
   "execution_count": 67,
   "id": "25ec5285",
   "metadata": {},
   "outputs": [],
   "source": [
    "vishwa2 = {123,44.65,5666,\"sghh\"}"
   ]
  },
  {
   "cell_type": "code",
   "execution_count": 68,
   "id": "3258b0f0",
   "metadata": {},
   "outputs": [
    {
     "data": {
      "text/plain": [
       "{123, 44.65, 5666, 'sghh'}"
      ]
     },
     "execution_count": 68,
     "metadata": {},
     "output_type": "execute_result"
    }
   ],
   "source": [
    "vishwa2"
   ]
  },
  {
   "cell_type": "code",
   "execution_count": 69,
   "id": "3088ef7c",
   "metadata": {},
   "outputs": [
    {
     "data": {
      "text/plain": [
       "set"
      ]
     },
     "execution_count": 69,
     "metadata": {},
     "output_type": "execute_result"
    }
   ],
   "source": [
    "type(vishwa2)"
   ]
  },
  {
   "cell_type": "code",
   "execution_count": 85,
   "id": "528c8c90",
   "metadata": {},
   "outputs": [],
   "source": [
    "vishwa3 = {1265,5698,32.65,\"vishwa\",(4565,4568,45.36,True,\"ghdh\")}"
   ]
  },
  {
   "cell_type": "code",
   "execution_count": 82,
   "id": "55d9521e",
   "metadata": {},
   "outputs": [
    {
     "data": {
      "text/plain": [
       "{(4565, 4568, 45.36, True, 'ghdh'), 1265, 32.65, 5698, 'vishewa'}"
      ]
     },
     "execution_count": 82,
     "metadata": {},
     "output_type": "execute_result"
    }
   ],
   "source": [
    "vishwa3"
   ]
  },
  {
   "cell_type": "code",
   "execution_count": 105,
   "id": "d05adbbb",
   "metadata": {},
   "outputs": [],
   "source": [
    "d= { \"a\" : \"vishwa\",  \"country\" : \"india\" , \"mobile\" : 12655565323}"
   ]
  },
  {
   "cell_type": "code",
   "execution_count": 106,
   "id": "c5f962d6",
   "metadata": {},
   "outputs": [
    {
     "data": {
      "text/plain": [
       "{'a': 'vishwa', 'country': 'india', 'mobile': 12655565323}"
      ]
     },
     "execution_count": 106,
     "metadata": {},
     "output_type": "execute_result"
    }
   ],
   "source": [
    "d"
   ]
  },
  {
   "cell_type": "code",
   "execution_count": 107,
   "id": "e60ba47e",
   "metadata": {},
   "outputs": [
    {
     "data": {
      "text/plain": [
       "dict"
      ]
     },
     "execution_count": 107,
     "metadata": {},
     "output_type": "execute_result"
    }
   ],
   "source": [
    "type(d)"
   ]
  },
  {
   "cell_type": "code",
   "execution_count": 111,
   "id": "3218d79a",
   "metadata": {},
   "outputs": [],
   "source": [
    "d1= {\"a1\":[12365,456.32,True,'fghyt'] , \"b1\" :('cftt', 4563 , 4586.36 ,'dfr') ,\"c1\" : 12565666}"
   ]
  },
  {
   "cell_type": "code",
   "execution_count": 112,
   "id": "7a0610c2",
   "metadata": {},
   "outputs": [
    {
     "data": {
      "text/plain": [
       "{'a1': [12365, 456.32, True, 'fghyt'],\n",
       " 'b1': ('cftt', 4563, 4586.36, 'dfr'),\n",
       " 'c1': 12565666}"
      ]
     },
     "execution_count": 112,
     "metadata": {},
     "output_type": "execute_result"
    }
   ],
   "source": [
    "d1"
   ]
  },
  {
   "cell_type": "code",
   "execution_count": 113,
   "id": "07f085ef",
   "metadata": {},
   "outputs": [
    {
     "data": {
      "text/plain": [
       "dict"
      ]
     },
     "execution_count": 113,
     "metadata": {},
     "output_type": "execute_result"
    }
   ],
   "source": [
    "type(d1)"
   ]
  },
  {
   "cell_type": "code",
   "execution_count": null,
   "id": "ad3bb1c9",
   "metadata": {},
   "outputs": [],
   "source": []
  },
  {
   "cell_type": "code",
   "execution_count": 36,
   "id": "3483f94f",
   "metadata": {},
   "outputs": [
    {
     "data": {
      "text/plain": [
       "2"
      ]
     },
     "execution_count": 36,
     "metadata": {},
     "output_type": "execute_result"
    }
   ],
   "source": [
    "True + True"
   ]
  },
  {
   "cell_type": "code",
   "execution_count": 37,
   "id": "210d8f85",
   "metadata": {},
   "outputs": [
    {
     "data": {
      "text/plain": [
       "1"
      ]
     },
     "execution_count": 37,
     "metadata": {},
     "output_type": "execute_result"
    }
   ],
   "source": [
    "True + False"
   ]
  },
  {
   "cell_type": "code",
   "execution_count": 38,
   "id": "bba8f2a3",
   "metadata": {},
   "outputs": [
    {
     "data": {
      "text/plain": [
       "0"
      ]
     },
     "execution_count": 38,
     "metadata": {},
     "output_type": "execute_result"
    }
   ],
   "source": [
    "False + False"
   ]
  },
  {
   "cell_type": "code",
   "execution_count": 39,
   "id": "c1910672",
   "metadata": {},
   "outputs": [
    {
     "data": {
      "text/plain": [
       "0"
      ]
     },
     "execution_count": 39,
     "metadata": {},
     "output_type": "execute_result"
    }
   ],
   "source": [
    "True * False"
   ]
  },
  {
   "cell_type": "code",
   "execution_count": 40,
   "id": "ab894feb",
   "metadata": {},
   "outputs": [
    {
     "ename": "ZeroDivisionError",
     "evalue": "division by zero",
     "output_type": "error",
     "traceback": [
      "\u001b[1;31m---------------------------------------------------------------------------\u001b[0m",
      "\u001b[1;31mZeroDivisionError\u001b[0m                         Traceback (most recent call last)",
      "Input \u001b[1;32mIn [40]\u001b[0m, in \u001b[0;36m<cell line: 1>\u001b[1;34m()\u001b[0m\n\u001b[1;32m----> 1\u001b[0m \u001b[38;5;28;43;01mTrue\u001b[39;49;00m\u001b[38;5;241;43m/\u001b[39;49m\u001b[38;5;28;43;01mFalse\u001b[39;49;00m\n",
      "\u001b[1;31mZeroDivisionError\u001b[0m: division by zero"
     ]
    }
   ],
   "source": [
    "True/False"
   ]
  },
  {
   "cell_type": "code",
   "execution_count": 41,
   "id": "b1169408",
   "metadata": {},
   "outputs": [
    {
     "data": {
      "text/plain": [
       "1.0"
      ]
     },
     "execution_count": 41,
     "metadata": {},
     "output_type": "execute_result"
    }
   ],
   "source": [
    "True/True"
   ]
  },
  {
   "cell_type": "code",
   "execution_count": 42,
   "id": "bcd69ac5",
   "metadata": {},
   "outputs": [
    {
     "ename": "SyntaxError",
     "evalue": "invalid syntax (1739099806.py, line 1)",
     "output_type": "error",
     "traceback": [
      "\u001b[1;36m  Input \u001b[1;32mIn [42]\u001b[1;36m\u001b[0m\n\u001b[1;33m    v%\u001b[0m\n\u001b[1;37m      ^\u001b[0m\n\u001b[1;31mSyntaxError\u001b[0m\u001b[1;31m:\u001b[0m invalid syntax\n"
     ]
    }
   ],
   "source": [
    "v%"
   ]
  },
  {
   "cell_type": "code",
   "execution_count": 43,
   "id": "be6dd094",
   "metadata": {},
   "outputs": [
    {
     "ename": "SyntaxError",
     "evalue": "invalid syntax (734126647.py, line 1)",
     "output_type": "error",
     "traceback": [
      "\u001b[1;36m  Input \u001b[1;32mIn [43]\u001b[1;36m\u001b[0m\n\u001b[1;33m    p&\u001b[0m\n\u001b[1;37m      ^\u001b[0m\n\u001b[1;31mSyntaxError\u001b[0m\u001b[1;31m:\u001b[0m invalid syntax\n"
     ]
    }
   ],
   "source": [
    "p&"
   ]
  },
  {
   "cell_type": "code",
   "execution_count": 63,
   "id": "ebaab3a3",
   "metadata": {},
   "outputs": [],
   "source": [
    "l= \"this is my first classd of python and today's date is 14th 2022\""
   ]
  },
  {
   "cell_type": "code",
   "execution_count": 64,
   "id": "2fa09b6b",
   "metadata": {},
   "outputs": [
    {
     "data": {
      "text/plain": [
       "\"this is my first classd of python and today's date is 14th 2022\""
      ]
     },
     "execution_count": 64,
     "metadata": {},
     "output_type": "execute_result"
    }
   ],
   "source": [
    "l"
   ]
  },
  {
   "cell_type": "code",
   "execution_count": null,
   "id": "9d19d959",
   "metadata": {},
   "outputs": [],
   "source": [
    "l."
   ]
  }
 ],
 "metadata": {
  "kernelspec": {
   "display_name": "Python 3 (ipykernel)",
   "language": "python",
   "name": "python3"
  },
  "language_info": {
   "codemirror_mode": {
    "name": "ipython",
    "version": 3
   },
   "file_extension": ".py",
   "mimetype": "text/x-python",
   "name": "python",
   "nbconvert_exporter": "python",
   "pygments_lexer": "ipython3",
   "version": "3.9.12"
  }
 },
 "nbformat": 4,
 "nbformat_minor": 5
}
